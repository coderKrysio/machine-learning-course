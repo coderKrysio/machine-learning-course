{
 "cells": [
  {
   "cell_type": "code",
   "execution_count": 1,
   "id": "d814a077",
   "metadata": {},
   "outputs": [
    {
     "name": "stdout",
     "output_type": "stream",
     "text": [
      "Total Instances of Dataset:  18\n"
     ]
    }
   ],
   "source": [
    "import pandas as pd\n",
    "msg = pd.read_csv('exp-6-document.csv', names=['message', 'label'])\n",
    "print(\"Total Instances of Dataset: \", msg.shape[0])\n",
    "msg['labelnum'] = msg.label.map({'pos': 1, 'neg': 0})"
   ]
  },
  {
   "cell_type": "code",
   "execution_count": 2,
   "id": "f5501d6b",
   "metadata": {},
   "outputs": [],
   "source": [
    "X = msg.message\n",
    "y = msg.labelnum\n",
    "from sklearn.model_selection import train_test_split\n",
    "Xtrain, Xtest, ytrain, ytest = train_test_split(X, y)\n",
    "from sklearn.feature_extraction.text import CountVectorizer\n",
    "\n",
    "count_v = CountVectorizer()\n",
    "Xtrain_dm = count_v.fit_transform(Xtrain)\n",
    "Xtest_dm = count_v.transform(Xtest)"
   ]
  },
  {
   "cell_type": "code",
   "execution_count": 3,
   "id": "cd6e42d8",
   "metadata": {},
   "outputs": [
    {
     "name": "stdout",
     "output_type": "stream",
     "text": [
      "   am  amazing  an  and  awesome  bad  best  boss  can  deal  ...  this  \\\n",
      "0   0        1   1    0        0    0     0     0    0     0  ...     1   \n",
      "1   0        0   0    0        0    0     0     0    0     0  ...     0   \n",
      "2   0        0   0    0        0    0     0     0    0     0  ...     1   \n",
      "3   0        0   1    0        1    0     0     0    0     0  ...     1   \n",
      "4   1        0   0    1        0    0     0     0    0     0  ...     1   \n",
      "\n",
      "   tired  to  tomorrow  view  we  what  will  with  work  \n",
      "0      0   0         0     0   0     0     0     0     0  \n",
      "1      0   0         0     0   0     1     0     0     0  \n",
      "2      0   0         0     0   0     0     0     0     0  \n",
      "3      0   0         0     0   0     0     0     0     0  \n",
      "4      1   0         0     0   0     0     0     0     0  \n",
      "\n",
      "[5 rows x 42 columns]\n"
     ]
    }
   ],
   "source": [
    "df = pd.DataFrame(Xtrain_dm.toarray(),columns=count_v.get_feature_names_out())\n",
    "print(df[0:5])"
   ]
  },
  {
   "cell_type": "code",
   "execution_count": 4,
   "id": "23bbffd9",
   "metadata": {},
   "outputs": [],
   "source": [
    "from sklearn.naive_bayes import MultinomialNB\n",
    "clf = MultinomialNB()\n",
    "clf.fit(Xtrain_dm, ytrain)\n",
    "pred = clf.predict(Xtest_dm)"
   ]
  },
  {
   "cell_type": "code",
   "execution_count": 5,
   "id": "018c8be5",
   "metadata": {},
   "outputs": [
    {
     "name": "stdout",
     "output_type": "stream",
     "text": [
      "This is an amazing place -> neg\n",
      "What a great holiday -> neg\n",
      "I do not like this restaurant -> pos\n",
      "This is an awesome place -> neg\n",
      "I am sick and tired of this place -> pos\n"
     ]
    }
   ],
   "source": [
    "for doc, p in zip(Xtrain, pred):\n",
    "    p = 'pos' if p == 1 else 'neg'\n",
    "    print(\"%s -> %s\" % (doc, p))"
   ]
  },
  {
   "cell_type": "code",
   "execution_count": 6,
   "id": "2a5745e2",
   "metadata": {},
   "outputs": [
    {
     "name": "stdout",
     "output_type": "stream",
     "text": [
      "Accuracy Metrics: \n",
      "\n",
      "Accuracy:  0.4\n",
      "Recall:  0.3333333333333333\n",
      "Precision:  0.5\n",
      "Confusion Matrix: \n",
      " [[1 1]\n",
      " [2 1]]\n"
     ]
    }
   ],
   "source": [
    "from sklearn.metrics import accuracy_score, confusion_matrix, precision_score, recall_score\n",
    "print('Accuracy Metrics: \\n')\n",
    "print('Accuracy: ', accuracy_score(ytest, pred))\n",
    "print('Recall: ', recall_score(ytest, pred))\n",
    "print('Precision: ', precision_score(ytest, pred))\n",
    "print('Confusion Matrix: \\n', confusion_matrix(ytest, pred))"
   ]
  },
  {
   "cell_type": "code",
   "execution_count": null,
   "id": "02853b24",
   "metadata": {},
   "outputs": [],
   "source": []
  }
 ],
 "metadata": {
  "kernelspec": {
   "display_name": "Python 3 (ipykernel)",
   "language": "python",
   "name": "python3"
  },
  "language_info": {
   "codemirror_mode": {
    "name": "ipython",
    "version": 3
   },
   "file_extension": ".py",
   "mimetype": "text/x-python",
   "name": "python",
   "nbconvert_exporter": "python",
   "pygments_lexer": "ipython3",
   "version": "3.11.5"
  }
 },
 "nbformat": 4,
 "nbformat_minor": 5
}
