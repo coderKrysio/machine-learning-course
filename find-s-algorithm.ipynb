{
 "cells": [
  {
   "cell_type": "code",
   "execution_count": 1,
   "id": "fb18653d",
   "metadata": {},
   "outputs": [
    {
     "name": "stdout",
     "output_type": "stream",
     "text": [
      "     Sky AirTemp Humidity    Wind WaterTemp Forecast EnjoySport\n",
      "0  Sunny    Warm   Normal  Strong      Warm      Yes        Yes\n",
      "1  Sunny    Warm     High  Strong      Warm      Yes        Yes\n",
      "2  Rainy    Cold     High  Strong      Cold       No         No\n",
      "3  Sunny    Warm   Normal    Weak      Warm      Yes        Yes\n",
      "4  Rainy    Cold   Normal    Weak      Cold       No         No\n",
      "5  Rainy    Warm     High  Strong      Warm      Yes        Yes\n",
      "6  Sunny    Cold   Normal    Weak      Cold       No         No\n",
      "7  Sunny    Warm     High    Weak      Warm      Yes        Yes\n",
      "8  Rainy    Warm   Normal  Strong      Warm      Yes        Yes\n"
     ]
    }
   ],
   "source": [
    "import pandas as pd\n",
    "import numpy as np\n",
    "\n",
    "#to read the data in the csv file\n",
    "data = pd.read_csv(\"find_s_data.csv\")\n",
    "print(data)"
   ]
  },
  {
   "cell_type": "code",
   "execution_count": 2,
   "id": "dae250e2",
   "metadata": {},
   "outputs": [
    {
     "name": "stdout",
     "output_type": "stream",
     "text": [
      "The attributes are: \n",
      " [['Sunny' 'Warm' 'Normal' 'Strong' 'Warm' 'Yes']\n",
      " ['Sunny' 'Warm' 'High' 'Strong' 'Warm' 'Yes']\n",
      " ['Rainy' 'Cold' 'High' 'Strong' 'Cold' 'No']\n",
      " ['Sunny' 'Warm' 'Normal' 'Weak' 'Warm' 'Yes']\n",
      " ['Rainy' 'Cold' 'Normal' 'Weak' 'Cold' 'No']\n",
      " ['Rainy' 'Warm' 'High' 'Strong' 'Warm' 'Yes']\n",
      " ['Sunny' 'Cold' 'Normal' 'Weak' 'Cold' 'No']\n",
      " ['Sunny' 'Warm' 'High' 'Weak' 'Warm' 'Yes']\n",
      " ['Rainy' 'Warm' 'Normal' 'Strong' 'Warm' 'Yes']]\n"
     ]
    }
   ],
   "source": [
    "#making an array of all the attributes\n",
    "d = np.array(data)[:,:-1]\n",
    "print(\"The attributes are: \\n\",d)"
   ]
  },
  {
   "cell_type": "code",
   "execution_count": 3,
   "id": "a11cafbd",
   "metadata": {},
   "outputs": [
    {
     "name": "stdout",
     "output_type": "stream",
     "text": [
      "The target is:\n",
      " ['Yes' 'Yes' 'No' 'Yes' 'No' 'Yes' 'No' 'Yes' 'Yes']\n"
     ]
    }
   ],
   "source": [
    "#segragating the target that has positive and negative examples\n",
    "target = np.array(data)[:,-1]\n",
    "print(\"The target is:\\n\",target)"
   ]
  },
  {
   "cell_type": "code",
   "execution_count": 4,
   "id": "a52a87f8",
   "metadata": {},
   "outputs": [
    {
     "name": "stdout",
     "output_type": "stream",
     "text": [
      "The final hypothesis is-\n",
      " ['?' 'Warm' '?' '?' 'Warm' 'Yes']\n"
     ]
    }
   ],
   "source": [
    "#training function to implement find-s algorithm\n",
    "def train(c,t):\n",
    "    for i, val in enumerate(t):\n",
    "        if val == \"Yes\":\n",
    "            specific_hypothesis = c[i].copy()\n",
    "            break\n",
    "\n",
    "    for i, val in enumerate(c):\n",
    "        if t[i] == \"Yes\":\n",
    "            for x in range(len(specific_hypothesis)):\n",
    "                if val[x] != specific_hypothesis[x]:\n",
    "                    specific_hypothesis[x] = '?'\n",
    "                else:\n",
    "                    pass\n",
    "\n",
    "    return specific_hypothesis\n",
    "\n",
    "#obtaining the final hypothesis\n",
    "print(\"The final hypothesis is-\\n\", train(d,target))"
   ]
  },
  {
   "cell_type": "code",
   "execution_count": 5,
   "id": "aa2a7d00",
   "metadata": {},
   "outputs": [
    {
     "name": "stdout",
     "output_type": "stream",
     "text": [
      "Yes\n",
      "Yes\n",
      "No\n",
      "Yes\n",
      "No\n",
      "Yes\n",
      "No\n",
      "Yes\n",
      "Yes\n"
     ]
    }
   ],
   "source": [
    "for i, val in enumerate(target):\n",
    "      print(target[i])"
   ]
  },
  {
   "cell_type": "code",
   "execution_count": 6,
   "id": "c6ff05c5",
   "metadata": {},
   "outputs": [
    {
     "name": "stdout",
     "output_type": "stream",
     "text": [
      "['Sunny' 'Warm' 'Normal' 'Strong' 'Warm' 'Yes']\n",
      "['Sunny' 'Warm' 'High' 'Strong' 'Warm' 'Yes']\n",
      "['Rainy' 'Cold' 'High' 'Strong' 'Cold' 'No']\n",
      "['Sunny' 'Warm' 'Normal' 'Weak' 'Warm' 'Yes']\n",
      "['Rainy' 'Cold' 'Normal' 'Weak' 'Cold' 'No']\n",
      "['Rainy' 'Warm' 'High' 'Strong' 'Warm' 'Yes']\n",
      "['Sunny' 'Cold' 'Normal' 'Weak' 'Cold' 'No']\n",
      "['Sunny' 'Warm' 'High' 'Weak' 'Warm' 'Yes']\n",
      "['Rainy' 'Warm' 'Normal' 'Strong' 'Warm' 'Yes']\n"
     ]
    }
   ],
   "source": [
    "for i, val in enumerate(d):\n",
    "      print(d[i])"
   ]
  }
 ],
 "metadata": {
  "kernelspec": {
   "display_name": "Python 3 (ipykernel)",
   "language": "python",
   "name": "python3"
  },
  "language_info": {
   "codemirror_mode": {
    "name": "ipython",
    "version": 3
   },
   "file_extension": ".py",
   "mimetype": "text/x-python",
   "name": "python",
   "nbconvert_exporter": "python",
   "pygments_lexer": "ipython3",
   "version": "3.11.5"
  }
 },
 "nbformat": 4,
 "nbformat_minor": 5
}
